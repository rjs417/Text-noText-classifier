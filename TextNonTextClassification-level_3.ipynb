{
 "cells": [
  {
   "cell_type": "code",
   "execution_count": 1,
   "metadata": {},
   "outputs": [],
   "source": [
    "import os\n",
    "import sys\n",
    "import pickle\n",
    "import numpy as np\n",
    "import pandas as pd\n",
    "from PIL import Image, ImageFilter\n",
    "from tqdm import tqdm_notebook\n",
    "from sklearn.preprocessing import StandardScaler, MinMaxScaler\n",
    "from sklearn.metrics import accuracy_score, mean_squared_error, log_loss, confusion_matrix\n",
    "from padhai import MPNeuron, Perceptron, PerceptronWithSigmoid\n",
    "import matplotlib.pyplot as plt\n",
    "\n",
    "np.random.seed(100)\n",
    "LEVEL = 'level_3'"
   ]
  },
  {
   "cell_type": "code",
   "execution_count": 2,
   "metadata": {},
   "outputs": [],
   "source": [
    "class SigmoidNeuron:\n",
    "  \n",
    "  def __init__(self):\n",
    "    self.w = None\n",
    "    self.b = None\n",
    "    \n",
    "  def perceptron(self, x):\n",
    "    return np.dot(x, self.w.T) + self.b\n",
    "  \n",
    "  def sigmoid(self, x):\n",
    "    return 1.0/(1.0 + np.exp(-x))\n",
    "  \n",
    "  def grad_w_mse(self, x, y):\n",
    "    y_pred = self.sigmoid(self.perceptron(x))\n",
    "    return (y_pred - y) * y_pred * (1 - y_pred) * x\n",
    "  \n",
    "  def grad_b_mse(self, x, y):\n",
    "    y_pred = self.sigmoid(self.perceptron(x))\n",
    "    return (y_pred - y) * y_pred * (1 - y_pred)\n",
    "  \n",
    "  def grad_w_ce(self, x, y):\n",
    "    y_pred = self.sigmoid(self.perceptron(x))\n",
    "    if y == 0:\n",
    "      return y_pred * x\n",
    "    elif y == 1:\n",
    "      return -1 * (1 - y_pred) * x\n",
    "    else:\n",
    "      raise ValueError(\"y should be 0 or 1\")\n",
    "    \n",
    "  def grad_b_ce(self, x, y):\n",
    "    y_pred = self.sigmoid(self.perceptron(x))\n",
    "    if y == 0:\n",
    "      return y_pred \n",
    "    elif y == 1:\n",
    "      return -1 * (1 - y_pred)\n",
    "    else:\n",
    "      raise ValueError(\"y should be 0 or 1\")\n",
    "  \n",
    "  def fit(self, X, Y, epochs=1, learning_rate=1, initialise=True, loss_fn=\"mse\", display_loss=False):\n",
    "    np.random.seed(0)\n",
    "    # initialise w, b\n",
    "    if initialise:\n",
    "      self.w = np.random.rand(1, X.shape[1])\n",
    "      self.b = 0\n",
    "      \n",
    "    if display_loss:\n",
    "      loss = {}\n",
    "    \n",
    "    for i in tqdm_notebook(range(epochs), total=epochs, unit=\"epoch\"):\n",
    "      dw = 0\n",
    "      db = 0\n",
    "      for x, y in zip(X, Y):\n",
    "        if loss_fn == \"mse\":\n",
    "          dw += self.grad_w_mse(x, y)\n",
    "          db += self.grad_b_mse(x, y) \n",
    "        elif loss_fn == \"ce\":\n",
    "          dw += self.grad_w_ce(x, y)\n",
    "          db += self.grad_b_ce(x, y)\n",
    "      self.w -= learning_rate * dw\n",
    "      self.b -= learning_rate * db\n",
    "      \n",
    "      if display_loss:\n",
    "        Y_pred = self.sigmoid(self.perceptron(X))\n",
    "        if loss_fn == \"mse\":\n",
    "          loss[i] = mean_squared_error(Y, Y_pred)\n",
    "        elif loss_fn == \"ce\":\n",
    "          loss[i] = log_loss(Y, Y_pred)\n",
    "    \n",
    "    if display_loss:\n",
    "      plt.plot(loss.values())\n",
    "      plt.xlabel('Epochs')\n",
    "      if loss_fn == \"mse\":\n",
    "        plt.ylabel('Mean Squared Error')\n",
    "      elif loss_fn == \"ce\":\n",
    "        plt.ylabel('Log Loss')\n",
    "      plt.show()\n",
    "      \n",
    "  def predict(self, X):\n",
    "    Y_pred = []\n",
    "    for x in X:\n",
    "      y_pred = self.sigmoid(self.perceptron(x))\n",
    "      Y_pred.append(y_pred)\n",
    "    return np.array(Y_pred)"
   ]
  },
  {
   "cell_type": "code",
   "execution_count": 3,
   "metadata": {},
   "outputs": [],
   "source": [
    "def read_all(folder_path, key_prefix=\"\"):\n",
    "    '''\n",
    "    It returns a dictionary with 'file names' as keys and 'flattened image arrays' as values.\n",
    "    '''\n",
    "    print(\"Reading:\")\n",
    "    images = {}\n",
    "    files = os.listdir(folder_path)\n",
    "    for i, file_name in tqdm_notebook(enumerate(files), total=len(files)):\n",
    "        file_path = os.path.join(folder_path, file_name)\n",
    "        image_index = key_prefix + file_name[:-4]\n",
    "        image = Image.open(file_path)\n",
    "        image = image.convert(\"L\")\n",
    "        images[image_index] = np.array(image.copy()).flatten()\n",
    "        image.close()\n",
    "    return images"
   ]
  },
  {
   "cell_type": "code",
   "execution_count": 4,
   "metadata": {},
   "outputs": [],
   "source": [
    "def read_all(folder_path, key_prefix=\"\"):\n",
    "    '''\n",
    "    It returns a dictionary with 'file names' as keys and 'flattened image arrays' as values.\n",
    "    '''\n",
    "    print(\"Reading:\")\n",
    "    images = {}\n",
    "    files = os.listdir(folder_path)\n",
    "    for i, file_name in tqdm_notebook(enumerate(files), total=len(files)):\n",
    "        file_path = os.path.join(folder_path, file_name)\n",
    "        image_index = key_prefix + file_name[:-4]\n",
    "        image = Image.open(file_path)\n",
    "        image = image.convert(\"RGBA\")\n",
    "        pixdata = image.load()  \n",
    "        for y in range(image.size[1]):  \n",
    "            for x in range(image.size[0]):  \n",
    "                r, g, b, a = image.getpixel((x, y))\n",
    "                if (r > 1) and (g > 1) and (b > 1):\n",
    "                    pixdata[x, y] = (0, 0, 0, 0)\n",
    "        image = image.convert(\"L\")\n",
    "        images[image_index] = np.array(image.copy()).flatten()\n",
    "        image.close()\n",
    "    return images"
   ]
  },
  {
   "cell_type": "code",
   "execution_count": 5,
   "metadata": {},
   "outputs": [
    {
     "name": "stdout",
     "output_type": "stream",
     "text": [
      "Reading:\n"
     ]
    },
    {
     "data": {
      "application/vnd.jupyter.widget-view+json": {
       "model_id": "c1f92682708c49b496c9253b6ef477af",
       "version_major": 2,
       "version_minor": 0
      },
      "text/plain": [
       "HBox(children=(IntProgress(value=0, max=4500), HTML(value='')))"
      ]
     },
     "metadata": {},
     "output_type": "display_data"
    },
    {
     "name": "stdout",
     "output_type": "stream",
     "text": [
      "\n",
      "Reading:\n"
     ]
    },
    {
     "data": {
      "application/vnd.jupyter.widget-view+json": {
       "model_id": "f1b02753fa554e3aa54a795377a9b9cb",
       "version_major": 2,
       "version_minor": 0
      },
      "text/plain": [
       "HBox(children=(IntProgress(value=0, max=1500), HTML(value='')))"
      ]
     },
     "metadata": {},
     "output_type": "display_data"
    },
    {
     "name": "stdout",
     "output_type": "stream",
     "text": [
      "\n",
      "Reading:\n"
     ]
    },
    {
     "data": {
      "application/vnd.jupyter.widget-view+json": {
       "model_id": "27347ec0202c4c9984df86f637ddaf5f",
       "version_major": 2,
       "version_minor": 0
      },
      "text/plain": [
       "HBox(children=(IntProgress(value=0, max=1500), HTML(value='')))"
      ]
     },
     "metadata": {},
     "output_type": "display_data"
    },
    {
     "name": "stdout",
     "output_type": "stream",
     "text": [
      "\n",
      "Reading:\n"
     ]
    },
    {
     "data": {
      "application/vnd.jupyter.widget-view+json": {
       "model_id": "f5eb0348afe04cbbad6153d02a8ab1d5",
       "version_major": 2,
       "version_minor": 0
      },
      "text/plain": [
       "HBox(children=(IntProgress(value=0, max=1500), HTML(value='')))"
      ]
     },
     "metadata": {},
     "output_type": "display_data"
    },
    {
     "name": "stdout",
     "output_type": "stream",
     "text": [
      "\n",
      "9000\n",
      "Reading:\n"
     ]
    },
    {
     "data": {
      "application/vnd.jupyter.widget-view+json": {
       "model_id": "2d210f72a8fe474090f60f19ff7e95c3",
       "version_major": 2,
       "version_minor": 0
      },
      "text/plain": [
       "HBox(children=(IntProgress(value=0, max=3000), HTML(value='')))"
      ]
     },
     "metadata": {},
     "output_type": "display_data"
    },
    {
     "name": "stdout",
     "output_type": "stream",
     "text": [
      "\n",
      "3000\n"
     ]
    }
   ],
   "source": [
    "languages = ['ta', 'hi', 'en']\n",
    "\n",
    "images_train = read_all(\"level_3_train/\"+LEVEL+\"/\"+\"background\", key_prefix='bgr_') # change the path\n",
    "for language in languages:\n",
    "    images_train.update(read_all(\"level_3_train/\"+LEVEL+\"/\"+language, key_prefix=language+\"_\" ))\n",
    "print(len(images_train))\n",
    "\n",
    "images_test = read_all(\"level_3_test/kaggle_\"+LEVEL, key_prefix='') # change the path\n",
    "print(len(images_test))"
   ]
  },
  {
   "cell_type": "code",
   "execution_count": 6,
   "metadata": {
    "scrolled": false
   },
   "outputs": [
    {
     "data": {
      "text/plain": [
       "array([0, 0, 0, ..., 0, 0, 0], dtype=uint8)"
      ]
     },
     "execution_count": 6,
     "metadata": {},
     "output_type": "execute_result"
    }
   ],
   "source": [
    "images_test['0']"
   ]
  },
  {
   "cell_type": "code",
   "execution_count": 6,
   "metadata": {},
   "outputs": [],
   "source": [
    "img = Image.open('displayPanel_0_flip_none_c27_25.jpg')\n",
    "img = img.convert(\"RGBA\")  \n",
    "pixdata = img.load()  \n",
    "for y in range(img.size[1]):  \n",
    "    for x in range(img.size[0]):  \n",
    "        r, g, b, a = img.getpixel((x, y))\n",
    "        if (r > 1) and (g > 1) and (b > 1):\n",
    "            pixdata[x, y] = (0, 0, 0, 0)\n",
    "            #Remove anti-aliasing outline of body.\n",
    "#            if r == 0 and g == 0 and b == 0:\n",
    "#                pixdata[x, y] = (255, 255, 255, 0)\n",
    "#            img2 = img.filter(ImageFilter.GaussianBlur(radius=1))  \n",
    "            img.save('filenameout_door.png', \"PNG\") "
   ]
  },
  {
   "cell_type": "code",
   "execution_count": 103,
   "metadata": {
    "scrolled": true
   },
   "outputs": [
    {
     "data": {
      "text/plain": [
       "(0, 0, 0, 0)"
      ]
     },
     "execution_count": 103,
     "metadata": {},
     "output_type": "execute_result"
    }
   ],
   "source": [
    "img.getpixel((52,2))"
   ]
  },
  {
   "cell_type": "code",
   "execution_count": 107,
   "metadata": {},
   "outputs": [
    {
     "data": {
      "text/plain": [
       "<PixelAccess at 0x14cf91a7a50>"
      ]
     },
     "execution_count": 107,
     "metadata": {},
     "output_type": "execute_result"
    }
   ],
   "source": [
    "img.load()"
   ]
  },
  {
   "cell_type": "code",
   "execution_count": 110,
   "metadata": {},
   "outputs": [
    {
     "data": {
      "image/png": "[encoded data removed]",
      "text/plain": [
       "<PIL.Image.Image image mode=L size=64x64 at 0x14CF92C04E0>"
      ]
     },
     "execution_count": 110,
     "metadata": {},
     "output_type": "execute_result"
    }
   ],
   "source": [
    "imgi = Image.open('displayPanel_0_flip_none_c27_25.jpg').convert(\"RGBA\") \n",
    "imgi."
   ]
  },
  {
   "cell_type": "code",
   "execution_count": 7,
   "metadata": {
    "scrolled": true
   },
   "outputs": [
    {
     "name": "stdout",
     "output_type": "stream",
     "text": [
      "(9000, 4096) (9000,)\n",
      "(3000, 4096)\n"
     ]
    }
   ],
   "source": [
    "X_train = []\n",
    "Y_train = []\n",
    "for key, value in images_train.items():\n",
    "    X_train.append(value)\n",
    "    if key[:4] == \"bgr_\":\n",
    "        Y_train.append(0)\n",
    "    else:\n",
    "        Y_train.append(1)\n",
    "\n",
    "ID_test = []\n",
    "X_test = []\n",
    "for key, value in images_test.items():\n",
    "    ID_test.append(int(key))\n",
    "    X_test.append(value)\n",
    "  \n",
    "        \n",
    "X_train = np.array(X_train)\n",
    "Y_train = np.array(Y_train)\n",
    "X_test = np.array(X_test)\n",
    "\n",
    "print(X_train.shape, Y_train.shape)\n",
    "print(X_test.shape)"
   ]
  },
  {
   "cell_type": "code",
   "execution_count": 7,
   "metadata": {},
   "outputs": [],
   "source": [
    "#X_train_scaled = X_train / 255"
   ]
  },
  {
   "cell_type": "code",
   "execution_count": 8,
   "metadata": {},
   "outputs": [],
   "source": [
    "#X_test_scaled = X_test / 255"
   ]
  },
  {
   "cell_type": "code",
   "execution_count": 8,
   "metadata": {},
   "outputs": [
    {
     "name": "stderr",
     "output_type": "stream",
     "text": [
      "C:\\Users\\rbat\\AppData\\Local\\Continuum\\anaconda3\\lib\\site-packages\\sklearn\\utils\\validation.py:595: DataConversionWarning: Data with input dtype uint8 was converted to float64 by StandardScaler.\n",
      "  warnings.warn(msg, DataConversionWarning)\n",
      "C:\\Users\\rbat\\AppData\\Local\\Continuum\\anaconda3\\lib\\site-packages\\sklearn\\utils\\validation.py:595: DataConversionWarning: Data with input dtype uint8 was converted to float64 by StandardScaler.\n",
      "  warnings.warn(msg, DataConversionWarning)\n",
      "C:\\Users\\rbat\\AppData\\Local\\Continuum\\anaconda3\\lib\\site-packages\\sklearn\\utils\\validation.py:595: DataConversionWarning: Data with input dtype uint8 was converted to float64 by StandardScaler.\n",
      "  warnings.warn(msg, DataConversionWarning)\n"
     ]
    }
   ],
   "source": [
    "scaler = StandardScaler()\n",
    "X_scaled_train = scaler.fit_transform(X_train)\n",
    "X_scaled_test = scaler.transform(X_test)"
   ]
  },
  {
   "cell_type": "code",
   "execution_count": 132,
   "metadata": {},
   "outputs": [],
   "source": [
    "#Improting the PCA module\n",
    "from sklearn.decomposition import PCA\n",
    "pca = PCA(svd_solver='randomized', random_state=42)"
   ]
  },
  {
   "cell_type": "code",
   "execution_count": 133,
   "metadata": {},
   "outputs": [
    {
     "data": {
      "text/plain": [
       "PCA(copy=True, iterated_power='auto', n_components=None, random_state=42,\n",
       "  svd_solver='randomized', tol=0.0, whiten=False)"
      ]
     },
     "execution_count": 133,
     "metadata": {},
     "output_type": "execute_result"
    }
   ],
   "source": [
    "#Doing the PCA on the train data\n",
    "pca.fit(X_scaled_train)"
   ]
  },
  {
   "cell_type": "code",
   "execution_count": 134,
   "metadata": {},
   "outputs": [
    {
     "data": {
      "text/plain": [
       "array([[ 0.01813694,  0.01969598,  0.01570162, ...,  0.01209057,\n",
       "         0.01556919,  0.01506997],\n",
       "       [-0.02055028, -0.02285427, -0.02033289, ..., -0.01261518,\n",
       "        -0.0160272 , -0.01571104],\n",
       "       [ 0.01256859,  0.01377354,  0.01659258, ..., -0.0218484 ,\n",
       "        -0.02453069, -0.01890197],\n",
       "       ...,\n",
       "       [-0.00996088,  0.01226029,  0.03272689, ..., -0.00015277,\n",
       "        -0.01332665,  0.00952102],\n",
       "       [ 0.01418905, -0.00890365,  0.01239554, ..., -0.00898491,\n",
       "         0.00658373, -0.00148346],\n",
       "       [ 0.00855758, -0.00649526, -0.00941345, ..., -0.01280616,\n",
       "         0.00450903, -0.00043427]])"
      ]
     },
     "execution_count": 134,
     "metadata": {},
     "output_type": "execute_result"
    }
   ],
   "source": [
    "pca.components_"
   ]
  },
  {
   "cell_type": "code",
   "execution_count": 135,
   "metadata": {},
   "outputs": [
    {
     "data": {
      "text/plain": [
       "array([1.80375320e-01, 6.51865434e-02, 4.30190768e-02, ...,\n",
       "       1.42900190e-07, 1.41234791e-07, 1.36351851e-07])"
      ]
     },
     "execution_count": 135,
     "metadata": {},
     "output_type": "execute_result"
    }
   ],
   "source": [
    "pca.explained_variance_ratio_"
   ]
  },
  {
   "cell_type": "code",
   "execution_count": 136,
   "metadata": {},
   "outputs": [
    {
     "data": {
      "image/png": "[encoded data removed]",
      "text/plain": [
       "<Figure size 720x432 with 1 Axes>"
      ]
     },
     "metadata": {
      "needs_background": "light"
     },
     "output_type": "display_data"
    }
   ],
   "source": [
    "#Making the screeplot - plotting the cumulative variance against the number of components\n",
    "%matplotlib inline\n",
    "fig = plt.figure(figsize = (10,6))\n",
    "plt.plot(np.cumsum(pca.explained_variance_ratio_))\n",
    "plt.xticks(np.arange(0, 4096, step=500))\n",
    "plt.yticks(np.arange(0, 1.1, step=0.1))\n",
    "plt.xlabel('number of components')\n",
    "plt.ylabel('cumulative explained variance')\n",
    "plt.grid(b=True)\n",
    "plt.show()"
   ]
  },
  {
   "cell_type": "markdown",
   "metadata": {},
   "source": [
    "#### Looks like 1500 components are enough to describe 99% of the variance in the dataset\n",
    "- We'll choose 1500 components for our modeling"
   ]
  },
  {
   "cell_type": "code",
   "execution_count": 137,
   "metadata": {},
   "outputs": [],
   "source": [
    "#Using incremental PCA for efficiency - saves a lot of time on larger datasets\n",
    "from sklearn.decomposition import IncrementalPCA\n",
    "pca_final = IncrementalPCA(n_components=1800)"
   ]
  },
  {
   "cell_type": "code",
   "execution_count": 138,
   "metadata": {},
   "outputs": [
    {
     "data": {
      "text/plain": [
       "(9000, 1800)"
      ]
     },
     "execution_count": 138,
     "metadata": {},
     "output_type": "execute_result"
    }
   ],
   "source": [
    "df_train_pca = pca_final.fit_transform(X_scaled_train)\n",
    "df_train_pca.shape"
   ]
  },
  {
   "cell_type": "code",
   "execution_count": 139,
   "metadata": {},
   "outputs": [],
   "source": [
    "#creating correlation matrix for the principal components\n",
    "corrmat = np.corrcoef(df_train_pca.transpose())"
   ]
  },
  {
   "cell_type": "code",
   "execution_count": 140,
   "metadata": {},
   "outputs": [
    {
     "name": "stdout",
     "output_type": "stream",
     "text": [
      "max corr: 9.430879356329839e-15 , min corr:  -1.0221557404624773e-14\n"
     ]
    }
   ],
   "source": [
    "# 1s -> 0s in diagonals\n",
    "corrmat_nodiag = corrmat - np.diagflat(corrmat.diagonal())\n",
    "print(\"max corr:\",corrmat_nodiag.max(), \", min corr: \", corrmat_nodiag.min(),)\n",
    "# we see that correlations are indeed very close to 0"
   ]
  },
  {
   "cell_type": "code",
   "execution_count": 141,
   "metadata": {},
   "outputs": [
    {
     "data": {
      "text/plain": [
       "1800"
      ]
     },
     "execution_count": 141,
     "metadata": {},
     "output_type": "execute_result"
    }
   ],
   "source": [
    "df_train_pca.shape[1]"
   ]
  },
  {
   "cell_type": "code",
   "execution_count": 146,
   "metadata": {
    "scrolled": true
   },
   "outputs": [
    {
     "data": {
      "application/vnd.jupyter.widget-view+json": {
       "model_id": "e16fd1c543b9483dbe7fb1937a1a7c7f",
       "version_major": 2,
       "version_minor": 0
      },
      "text/plain": [
       "HBox(children=(IntProgress(value=0, max=500), HTML(value='')))"
      ]
     },
     "metadata": {},
     "output_type": "display_data"
    },
    {
     "data": {
      "image/png": "[encoded data removed]",
      "text/plain": [
       "<Figure size 432x288 with 1 Axes>"
      ]
     },
     "metadata": {
      "needs_background": "light"
     },
     "output_type": "display_data"
    }
   ],
   "source": [
    "sn_mse = SigmoidNeuron()\n",
    "sn_mse.fit(df_train_pca, Y_train, epochs=500, learning_rate=0.01, loss_fn=\"mse\", display_loss=True)"
   ]
  },
  {
   "cell_type": "code",
   "execution_count": 9,
   "metadata": {},
   "outputs": [
    {
     "data": {
      "application/vnd.jupyter.widget-view+json": {
       "model_id": "15f761c34ea34ec5bfad0d0aabeab9c7",
       "version_major": 2,
       "version_minor": 0
      },
      "text/plain": [
       "HBox(children=(IntProgress(value=0, max=500), HTML(value='')))"
      ]
     },
     "metadata": {},
     "output_type": "display_data"
    },
    {
     "name": "stdout",
     "output_type": "stream",
     "text": [
      "\n"
     ]
    },
    {
     "data": {
      "image/png": "[encoded data removed]",
      "text/plain": [
       "<Figure size 432x288 with 1 Axes>"
      ]
     },
     "metadata": {
      "needs_background": "light"
     },
     "output_type": "display_data"
    }
   ],
   "source": [
    "sn_ce = SigmoidNeuron()\n",
    "sn_ce.fit(X_scaled_train, Y_train, epochs=500, learning_rate=0.01, loss_fn=\"ce\", display_loss=True)"
   ]
  },
  {
   "cell_type": "code",
   "execution_count": 148,
   "metadata": {},
   "outputs": [
    {
     "data": {
      "text/plain": [
       "(3000, 1800)"
      ]
     },
     "execution_count": 148,
     "metadata": {},
     "output_type": "execute_result"
    }
   ],
   "source": [
    "#Applying selected components to the test data - 16 components\n",
    "test_pca = pca_final.transform(X_scaled_test)\n",
    "test_pca.shape"
   ]
  },
  {
   "cell_type": "code",
   "execution_count": 10,
   "metadata": {},
   "outputs": [],
   "source": [
    "def print_accuracy(sn):\n",
    "  Y_pred_train = sn.predict(X_scaled_train)\n",
    "  Y_pred_binarised_train = (Y_pred_train >= 0.5).astype(\"int\").ravel()\n",
    "  accuracy_train = accuracy_score(Y_pred_binarised_train, Y_train)\n",
    "  print(\"Train Accuracy : \", accuracy_train)\n",
    "  print(\"-\"*50)"
   ]
  },
  {
   "cell_type": "code",
   "execution_count": 11,
   "metadata": {},
   "outputs": [
    {
     "name": "stdout",
     "output_type": "stream",
     "text": [
      "Train Accuracy :  0.6976666666666667\n",
      "--------------------------------------------------\n"
     ]
    }
   ],
   "source": [
    "#print_accuracy(sn_mse)\n",
    "print_accuracy(sn_ce)"
   ]
  },
  {
   "cell_type": "markdown",
   "metadata": {},
   "source": [
    "## Sample Submission"
   ]
  },
  {
   "cell_type": "code",
   "execution_count": 12,
   "metadata": {},
   "outputs": [],
   "source": [
    "Y_pred_test = sn_ce.predict(X_scaled_test)\n",
    "Y_pred_binarised_test = (Y_pred_test >= 0.5).astype(\"int\").ravel()\n",
    "\n",
    "submission = {}\n",
    "submission['ImageId'] = ID_test\n",
    "submission['Class'] = Y_pred_binarised_test\n",
    "\n",
    "submission = pd.DataFrame(submission)\n",
    "submission = submission[['ImageId', 'Class']]\n",
    "submission = submission.sort_values(['ImageId'])\n",
    "submission.to_csv(\"submisision_level3_pca_255.csv\", index=False)"
   ]
  }
 ],
 "metadata": {
  "kernelspec": {
   "display_name": "Python 3",
   "language": "python",
   "name": "python3"
  },
  "language_info": {
   "codemirror_mode": {
    "name": "ipython",
    "version": 3
   },
   "file_extension": ".py",
   "mimetype": "text/x-python",
   "name": "python",
   "nbconvert_exporter": "python",
   "pygments_lexer": "ipython3",
   "version": "3.7.1"
  }
 },
 "nbformat": 4,
 "nbformat_minor": 2
}
